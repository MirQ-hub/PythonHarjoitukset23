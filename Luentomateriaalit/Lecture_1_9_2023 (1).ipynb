{
 "cells": [
  {
   "cell_type": "code",
   "execution_count": 1,
   "metadata": {},
   "outputs": [
    {
     "name": "stdout",
     "output_type": "stream",
     "text": [
      "hello class\n"
     ]
    }
   ],
   "source": [
    "print(\"hello class\")"
   ]
  },
  {
   "cell_type": "code",
   "execution_count": 2,
   "metadata": {},
   "outputs": [],
   "source": [
    "import pandas as pd\n",
    "\n",
    "df = pd.read_csv(r\"C:\\Users\\villemaj\\OneDrive - Oulun ammattikorkeakoulu\\Data Analysis\\Test data\\titanic_for_exercise.csv\")\n"
   ]
  },
  {
   "cell_type": "code",
   "execution_count": 3,
   "metadata": {},
   "outputs": [
    {
     "data": {
      "text/html": [
       "<div>\n",
       "<style scoped>\n",
       "    .dataframe tbody tr th:only-of-type {\n",
       "        vertical-align: middle;\n",
       "    }\n",
       "\n",
       "    .dataframe tbody tr th {\n",
       "        vertical-align: top;\n",
       "    }\n",
       "\n",
       "    .dataframe thead th {\n",
       "        text-align: right;\n",
       "    }\n",
       "</style>\n",
       "<table border=\"1\" class=\"dataframe\">\n",
       "  <thead>\n",
       "    <tr style=\"text-align: right;\">\n",
       "      <th></th>\n",
       "      <th>Survived</th>\n",
       "      <th>Pclass</th>\n",
       "      <th>Name</th>\n",
       "      <th>Sex</th>\n",
       "      <th>Age</th>\n",
       "      <th>Siblings/Spouses Aboard</th>\n",
       "      <th>Parents/Children Aboard</th>\n",
       "      <th>Fare</th>\n",
       "    </tr>\n",
       "  </thead>\n",
       "  <tbody>\n",
       "    <tr>\n",
       "      <th>0</th>\n",
       "      <td>0.0</td>\n",
       "      <td>3.0</td>\n",
       "      <td>Mr. Owen Harris Braund</td>\n",
       "      <td>male</td>\n",
       "      <td>NaN</td>\n",
       "      <td>1</td>\n",
       "      <td>0.0</td>\n",
       "      <td>7.2500</td>\n",
       "    </tr>\n",
       "    <tr>\n",
       "      <th>1</th>\n",
       "      <td>1.0</td>\n",
       "      <td>1.0</td>\n",
       "      <td>Mrs. John Bradley (Florence Briggs Thayer) Cum...</td>\n",
       "      <td>female</td>\n",
       "      <td>38.0</td>\n",
       "      <td>1</td>\n",
       "      <td>0.0</td>\n",
       "      <td>71.2833</td>\n",
       "    </tr>\n",
       "    <tr>\n",
       "      <th>2</th>\n",
       "      <td>1.0</td>\n",
       "      <td>3.0</td>\n",
       "      <td>Miss. Laina Heikkinen</td>\n",
       "      <td>female</td>\n",
       "      <td>26.0</td>\n",
       "      <td>0</td>\n",
       "      <td>0.0</td>\n",
       "      <td>7.9250</td>\n",
       "    </tr>\n",
       "    <tr>\n",
       "      <th>3</th>\n",
       "      <td>1.0</td>\n",
       "      <td>1.0</td>\n",
       "      <td>Mrs. Jacques Heath (Lily May Peel) Futrelle</td>\n",
       "      <td>female</td>\n",
       "      <td>35.0</td>\n",
       "      <td>1</td>\n",
       "      <td>0.0</td>\n",
       "      <td>53.1000</td>\n",
       "    </tr>\n",
       "    <tr>\n",
       "      <th>4</th>\n",
       "      <td>0.0</td>\n",
       "      <td>3.0</td>\n",
       "      <td>Mr. William Henry Allen</td>\n",
       "      <td>male</td>\n",
       "      <td>35.0</td>\n",
       "      <td>0</td>\n",
       "      <td>0.0</td>\n",
       "      <td>8.0500</td>\n",
       "    </tr>\n",
       "  </tbody>\n",
       "</table>\n",
       "</div>"
      ],
      "text/plain": [
       "   Survived  Pclass                                               Name  \\\n",
       "0       0.0     3.0                             Mr. Owen Harris Braund   \n",
       "1       1.0     1.0  Mrs. John Bradley (Florence Briggs Thayer) Cum...   \n",
       "2       1.0     3.0                              Miss. Laina Heikkinen   \n",
       "3       1.0     1.0        Mrs. Jacques Heath (Lily May Peel) Futrelle   \n",
       "4       0.0     3.0                            Mr. William Henry Allen   \n",
       "\n",
       "      Sex   Age  Siblings/Spouses Aboard  Parents/Children Aboard     Fare  \n",
       "0    male   NaN                        1                      0.0   7.2500  \n",
       "1  female  38.0                        1                      0.0  71.2833  \n",
       "2  female  26.0                        0                      0.0   7.9250  \n",
       "3  female  35.0                        1                      0.0  53.1000  \n",
       "4    male  35.0                        0                      0.0   8.0500  "
      ]
     },
     "execution_count": 3,
     "metadata": {},
     "output_type": "execute_result"
    }
   ],
   "source": [
    "df.head()"
   ]
  },
  {
   "cell_type": "code",
   "execution_count": 4,
   "metadata": {},
   "outputs": [
    {
     "name": "stdout",
     "output_type": "stream",
     "text": [
      "<class 'pandas.core.frame.DataFrame'>\n",
      "RangeIndex: 887 entries, 0 to 886\n",
      "Data columns (total 8 columns):\n",
      " #   Column                   Non-Null Count  Dtype  \n",
      "---  ------                   --------------  -----  \n",
      " 0   Survived                 886 non-null    float64\n",
      " 1   Pclass                   884 non-null    float64\n",
      " 2   Name                     886 non-null    object \n",
      " 3   Sex                      884 non-null    object \n",
      " 4   Age                      884 non-null    float64\n",
      " 5   Siblings/Spouses Aboard  887 non-null    int64  \n",
      " 6   Parents/Children Aboard  882 non-null    float64\n",
      " 7   Fare                     883 non-null    float64\n",
      "dtypes: float64(5), int64(1), object(2)\n",
      "memory usage: 55.6+ KB\n"
     ]
    }
   ],
   "source": [
    "df.info()"
   ]
  },
  {
   "cell_type": "code",
   "execution_count": 5,
   "metadata": {},
   "outputs": [
    {
     "data": {
      "text/html": [
       "<div>\n",
       "<style scoped>\n",
       "    .dataframe tbody tr th:only-of-type {\n",
       "        vertical-align: middle;\n",
       "    }\n",
       "\n",
       "    .dataframe tbody tr th {\n",
       "        vertical-align: top;\n",
       "    }\n",
       "\n",
       "    .dataframe thead th {\n",
       "        text-align: right;\n",
       "    }\n",
       "</style>\n",
       "<table border=\"1\" class=\"dataframe\">\n",
       "  <thead>\n",
       "    <tr style=\"text-align: right;\">\n",
       "      <th></th>\n",
       "      <th>Survived</th>\n",
       "      <th>Pclass</th>\n",
       "      <th>Age</th>\n",
       "      <th>Siblings/Spouses Aboard</th>\n",
       "      <th>Parents/Children Aboard</th>\n",
       "      <th>Fare</th>\n",
       "    </tr>\n",
       "  </thead>\n",
       "  <tbody>\n",
       "    <tr>\n",
       "      <th>count</th>\n",
       "      <td>886.000000</td>\n",
       "      <td>884.000000</td>\n",
       "      <td>884.000000</td>\n",
       "      <td>887.000000</td>\n",
       "      <td>882.000000</td>\n",
       "      <td>883.000000</td>\n",
       "    </tr>\n",
       "    <tr>\n",
       "      <th>mean</th>\n",
       "      <td>0.397291</td>\n",
       "      <td>2.361991</td>\n",
       "      <td>29.467387</td>\n",
       "      <td>0.525366</td>\n",
       "      <td>0.395692</td>\n",
       "      <td>210.736909</td>\n",
       "    </tr>\n",
       "    <tr>\n",
       "      <th>std</th>\n",
       "      <td>0.591993</td>\n",
       "      <td>1.491449</td>\n",
       "      <td>14.147520</td>\n",
       "      <td>1.104669</td>\n",
       "      <td>1.208607</td>\n",
       "      <td>5132.566804</td>\n",
       "    </tr>\n",
       "    <tr>\n",
       "      <th>min</th>\n",
       "      <td>-1.000000</td>\n",
       "      <td>0.000000</td>\n",
       "      <td>0.000000</td>\n",
       "      <td>0.000000</td>\n",
       "      <td>-20.000000</td>\n",
       "      <td>-20.525000</td>\n",
       "    </tr>\n",
       "    <tr>\n",
       "      <th>25%</th>\n",
       "      <td>0.000000</td>\n",
       "      <td>2.000000</td>\n",
       "      <td>20.000000</td>\n",
       "      <td>0.000000</td>\n",
       "      <td>0.000000</td>\n",
       "      <td>7.895800</td>\n",
       "    </tr>\n",
       "    <tr>\n",
       "      <th>50%</th>\n",
       "      <td>0.000000</td>\n",
       "      <td>3.000000</td>\n",
       "      <td>28.000000</td>\n",
       "      <td>0.000000</td>\n",
       "      <td>0.000000</td>\n",
       "      <td>14.454200</td>\n",
       "    </tr>\n",
       "    <tr>\n",
       "      <th>75%</th>\n",
       "      <td>1.000000</td>\n",
       "      <td>3.000000</td>\n",
       "      <td>38.000000</td>\n",
       "      <td>1.000000</td>\n",
       "      <td>0.000000</td>\n",
       "      <td>31.137500</td>\n",
       "    </tr>\n",
       "    <tr>\n",
       "      <th>max</th>\n",
       "      <td>10.000000</td>\n",
       "      <td>33.000000</td>\n",
       "      <td>80.000000</td>\n",
       "      <td>8.000000</td>\n",
       "      <td>13.000000</td>\n",
       "      <td>152458.000000</td>\n",
       "    </tr>\n",
       "  </tbody>\n",
       "</table>\n",
       "</div>"
      ],
      "text/plain": [
       "         Survived      Pclass         Age  Siblings/Spouses Aboard  \\\n",
       "count  886.000000  884.000000  884.000000               887.000000   \n",
       "mean     0.397291    2.361991   29.467387                 0.525366   \n",
       "std      0.591993    1.491449   14.147520                 1.104669   \n",
       "min     -1.000000    0.000000    0.000000                 0.000000   \n",
       "25%      0.000000    2.000000   20.000000                 0.000000   \n",
       "50%      0.000000    3.000000   28.000000                 0.000000   \n",
       "75%      1.000000    3.000000   38.000000                 1.000000   \n",
       "max     10.000000   33.000000   80.000000                 8.000000   \n",
       "\n",
       "       Parents/Children Aboard           Fare  \n",
       "count               882.000000     883.000000  \n",
       "mean                  0.395692     210.736909  \n",
       "std                   1.208607    5132.566804  \n",
       "min                 -20.000000     -20.525000  \n",
       "25%                   0.000000       7.895800  \n",
       "50%                   0.000000      14.454200  \n",
       "75%                   0.000000      31.137500  \n",
       "max                  13.000000  152458.000000  "
      ]
     },
     "execution_count": 5,
     "metadata": {},
     "output_type": "execute_result"
    }
   ],
   "source": [
    "df.describe()"
   ]
  },
  {
   "cell_type": "code",
   "execution_count": 8,
   "metadata": {},
   "outputs": [
    {
     "data": {
      "text/plain": [
       "<AxesSubplot: >"
      ]
     },
     "execution_count": 8,
     "metadata": {},
     "output_type": "execute_result"
    },
    {
     "data": {
      "image/png": "[encoded data removed]",
      "text/plain": [
       "<Figure size 640x480 with 1 Axes>"
      ]
     },
     "metadata": {},
     "output_type": "display_data"
    }
   ],
   "source": [
    "df[\"Age\"].hist(bins=80)"
   ]
  },
  {
   "cell_type": "code",
   "execution_count": 11,
   "metadata": {},
   "outputs": [
    {
     "data": {
      "text/plain": [
       "<AxesSubplot: >"
      ]
     },
     "execution_count": 11,
     "metadata": {},
     "output_type": "execute_result"
    },
    {
     "data": {
      "image/png": "[encoded data removed]",
      "text/plain": [
       "<Figure size 640x480 with 1 Axes>"
      ]
     },
     "metadata": {},
     "output_type": "display_data"
    }
   ],
   "source": [
    "df[\"Fare\"].hist(bins=80)    "
   ]
  },
  {
   "cell_type": "code",
   "execution_count": 12,
   "metadata": {},
   "outputs": [],
   "source": [
    "df_excel = pd.read_excel(r\"C:\\Users\\villemaj\\OneDrive - Oulun ammattikorkeakoulu\\Data Analysis\\Test data\\The World's Highest-Paid Athletes List.xlsx\")"
   ]
  },
  {
   "cell_type": "code",
   "execution_count": 13,
   "metadata": {},
   "outputs": [
    {
     "data": {
      "text/html": [
       "<div>\n",
       "<style scoped>\n",
       "    .dataframe tbody tr th:only-of-type {\n",
       "        vertical-align: middle;\n",
       "    }\n",
       "\n",
       "    .dataframe tbody tr th {\n",
       "        vertical-align: top;\n",
       "    }\n",
       "\n",
       "    .dataframe thead th {\n",
       "        text-align: right;\n",
       "    }\n",
       "</style>\n",
       "<table border=\"1\" class=\"dataframe\">\n",
       "  <thead>\n",
       "    <tr style=\"text-align: right;\">\n",
       "      <th></th>\n",
       "      <th>Rank</th>\n",
       "      <th>Name</th>\n",
       "      <th>Pay ($M)</th>\n",
       "      <th>Salary/Winnings ($M)</th>\n",
       "      <th>Endorsements ($M)</th>\n",
       "      <th>Sport</th>\n",
       "      <th>Rank.1</th>\n",
       "    </tr>\n",
       "  </thead>\n",
       "  <tbody>\n",
       "    <tr>\n",
       "      <th>0</th>\n",
       "      <td>1</td>\n",
       "      <td>Floyd Mayweather</td>\n",
       "      <td>285.0</td>\n",
       "      <td>275.0</td>\n",
       "      <td>10.0</td>\n",
       "      <td>Boxing</td>\n",
       "      <td>1</td>\n",
       "    </tr>\n",
       "    <tr>\n",
       "      <th>1</th>\n",
       "      <td>2</td>\n",
       "      <td>Lionel Messi</td>\n",
       "      <td>111.0</td>\n",
       "      <td>84.0</td>\n",
       "      <td>27.0</td>\n",
       "      <td>Soccer</td>\n",
       "      <td>2</td>\n",
       "    </tr>\n",
       "    <tr>\n",
       "      <th>2</th>\n",
       "      <td>3</td>\n",
       "      <td>Cristiano Ronaldo</td>\n",
       "      <td>108.0</td>\n",
       "      <td>61.0</td>\n",
       "      <td>47.0</td>\n",
       "      <td>Soccer</td>\n",
       "      <td>3</td>\n",
       "    </tr>\n",
       "    <tr>\n",
       "      <th>3</th>\n",
       "      <td>4</td>\n",
       "      <td>Conor McGregor</td>\n",
       "      <td>99.0</td>\n",
       "      <td>85.0</td>\n",
       "      <td>14.0</td>\n",
       "      <td>Mixed Martial Arts</td>\n",
       "      <td>4</td>\n",
       "    </tr>\n",
       "    <tr>\n",
       "      <th>4</th>\n",
       "      <td>5</td>\n",
       "      <td>Neymar</td>\n",
       "      <td>90.0</td>\n",
       "      <td>73.0</td>\n",
       "      <td>17.0</td>\n",
       "      <td>Soccer</td>\n",
       "      <td>5</td>\n",
       "    </tr>\n",
       "  </tbody>\n",
       "</table>\n",
       "</div>"
      ],
      "text/plain": [
       "   Rank               Name  Pay ($M)  Salary/Winnings ($M)  Endorsements ($M)  \\\n",
       "0     1   Floyd Mayweather     285.0                 275.0               10.0   \n",
       "1     2       Lionel Messi     111.0                  84.0               27.0   \n",
       "2     3  Cristiano Ronaldo     108.0                  61.0               47.0   \n",
       "3     4     Conor McGregor      99.0                  85.0               14.0   \n",
       "4     5             Neymar      90.0                  73.0               17.0   \n",
       "\n",
       "                Sport  Rank.1  \n",
       "0              Boxing       1  \n",
       "1              Soccer       2  \n",
       "2              Soccer       3  \n",
       "3  Mixed Martial Arts       4  \n",
       "4              Soccer       5  "
      ]
     },
     "execution_count": 13,
     "metadata": {},
     "output_type": "execute_result"
    }
   ],
   "source": [
    "df_excel.head()"
   ]
  },
  {
   "cell_type": "code",
   "execution_count": 14,
   "metadata": {},
   "outputs": [
    {
     "name": "stdout",
     "output_type": "stream",
     "text": [
      "<class 'pandas.core.frame.DataFrame'>\n",
      "RangeIndex: 100 entries, 0 to 99\n",
      "Data columns (total 7 columns):\n",
      " #   Column                Non-Null Count  Dtype  \n",
      "---  ------                --------------  -----  \n",
      " 0   Rank                  100 non-null    int64  \n",
      " 1   Name                  100 non-null    object \n",
      " 2   Pay ($M)              100 non-null    float64\n",
      " 3   Salary/Winnings ($M)  100 non-null    float64\n",
      " 4   Endorsements ($M)     100 non-null    float64\n",
      " 5   Sport                 100 non-null    object \n",
      " 6   Rank.1                100 non-null    int64  \n",
      "dtypes: float64(3), int64(2), object(2)\n",
      "memory usage: 5.6+ KB\n"
     ]
    }
   ],
   "source": [
    "df_excel.info()"
   ]
  },
  {
   "cell_type": "code",
   "execution_count": 18,
   "metadata": {},
   "outputs": [
    {
     "data": {
      "text/plain": [
       "<AxesSubplot: >"
      ]
     },
     "execution_count": 18,
     "metadata": {},
     "output_type": "execute_result"
    },
    {
     "data": {
      "image/png": "[encoded data removed]",
      "text/plain": [
       "<Figure size 640x480 with 1 Axes>"
      ]
     },
     "metadata": {},
     "output_type": "display_data"
    }
   ],
   "source": [
    "df_excel[\"Salary/Winnings ($M)\"].hist(bins=80)"
   ]
  },
  {
   "cell_type": "code",
   "execution_count": 19,
   "metadata": {},
   "outputs": [
    {
     "data": {
      "text/html": [
       "<div>\n",
       "<style scoped>\n",
       "    .dataframe tbody tr th:only-of-type {\n",
       "        vertical-align: middle;\n",
       "    }\n",
       "\n",
       "    .dataframe tbody tr th {\n",
       "        vertical-align: top;\n",
       "    }\n",
       "\n",
       "    .dataframe thead th {\n",
       "        text-align: right;\n",
       "    }\n",
       "</style>\n",
       "<table border=\"1\" class=\"dataframe\">\n",
       "  <thead>\n",
       "    <tr style=\"text-align: right;\">\n",
       "      <th></th>\n",
       "      <th>Rank</th>\n",
       "      <th>Name</th>\n",
       "      <th>Pay ($M)</th>\n",
       "      <th>Salary/Winnings ($M)</th>\n",
       "      <th>Endorsements ($M)</th>\n",
       "      <th>Sport</th>\n",
       "      <th>Rank.1</th>\n",
       "    </tr>\n",
       "  </thead>\n",
       "  <tbody>\n",
       "    <tr>\n",
       "      <th>0</th>\n",
       "      <td>1</td>\n",
       "      <td>Floyd Mayweather</td>\n",
       "      <td>285.0</td>\n",
       "      <td>275.0</td>\n",
       "      <td>10.00</td>\n",
       "      <td>Boxing</td>\n",
       "      <td>1</td>\n",
       "    </tr>\n",
       "    <tr>\n",
       "      <th>1</th>\n",
       "      <td>2</td>\n",
       "      <td>Lionel Messi</td>\n",
       "      <td>111.0</td>\n",
       "      <td>84.0</td>\n",
       "      <td>27.00</td>\n",
       "      <td>Soccer</td>\n",
       "      <td>2</td>\n",
       "    </tr>\n",
       "    <tr>\n",
       "      <th>2</th>\n",
       "      <td>3</td>\n",
       "      <td>Cristiano Ronaldo</td>\n",
       "      <td>108.0</td>\n",
       "      <td>61.0</td>\n",
       "      <td>47.00</td>\n",
       "      <td>Soccer</td>\n",
       "      <td>3</td>\n",
       "    </tr>\n",
       "    <tr>\n",
       "      <th>3</th>\n",
       "      <td>4</td>\n",
       "      <td>Conor McGregor</td>\n",
       "      <td>99.0</td>\n",
       "      <td>85.0</td>\n",
       "      <td>14.00</td>\n",
       "      <td>Mixed Martial Arts</td>\n",
       "      <td>4</td>\n",
       "    </tr>\n",
       "    <tr>\n",
       "      <th>4</th>\n",
       "      <td>5</td>\n",
       "      <td>Neymar</td>\n",
       "      <td>90.0</td>\n",
       "      <td>73.0</td>\n",
       "      <td>17.00</td>\n",
       "      <td>Soccer</td>\n",
       "      <td>5</td>\n",
       "    </tr>\n",
       "    <tr>\n",
       "      <th>...</th>\n",
       "      <td>...</td>\n",
       "      <td>...</td>\n",
       "      <td>...</td>\n",
       "      <td>...</td>\n",
       "      <td>...</td>\n",
       "      <td>...</td>\n",
       "      <td>...</td>\n",
       "    </tr>\n",
       "    <tr>\n",
       "      <th>95</th>\n",
       "      <td>95</td>\n",
       "      <td>Robinson Cano</td>\n",
       "      <td>23.1</td>\n",
       "      <td>22.1</td>\n",
       "      <td>1.00</td>\n",
       "      <td>Baseball</td>\n",
       "      <td>95</td>\n",
       "    </tr>\n",
       "    <tr>\n",
       "      <th>96</th>\n",
       "      <td>95</td>\n",
       "      <td>Brook Lopez</td>\n",
       "      <td>23.1</td>\n",
       "      <td>22.6</td>\n",
       "      <td>0.50</td>\n",
       "      <td>Basketball</td>\n",
       "      <td>95</td>\n",
       "    </tr>\n",
       "    <tr>\n",
       "      <th>97</th>\n",
       "      <td>95</td>\n",
       "      <td>Masahiro Tanaka</td>\n",
       "      <td>23.1</td>\n",
       "      <td>22.1</td>\n",
       "      <td>1.00</td>\n",
       "      <td>Baseball</td>\n",
       "      <td>95</td>\n",
       "    </tr>\n",
       "    <tr>\n",
       "      <th>98</th>\n",
       "      <td>99</td>\n",
       "      <td>Melvin Ingram</td>\n",
       "      <td>23.0</td>\n",
       "      <td>22.8</td>\n",
       "      <td>0.15</td>\n",
       "      <td>Football</td>\n",
       "      <td>99</td>\n",
       "    </tr>\n",
       "    <tr>\n",
       "      <th>99</th>\n",
       "      <td>100</td>\n",
       "      <td>Nicolas Batum</td>\n",
       "      <td>22.9</td>\n",
       "      <td>22.4</td>\n",
       "      <td>0.50</td>\n",
       "      <td>Basketball</td>\n",
       "      <td>100</td>\n",
       "    </tr>\n",
       "  </tbody>\n",
       "</table>\n",
       "<p>100 rows × 7 columns</p>\n",
       "</div>"
      ],
      "text/plain": [
       "    Rank               Name  Pay ($M)  Salary/Winnings ($M)  \\\n",
       "0      1   Floyd Mayweather     285.0                 275.0   \n",
       "1      2       Lionel Messi     111.0                  84.0   \n",
       "2      3  Cristiano Ronaldo     108.0                  61.0   \n",
       "3      4     Conor McGregor      99.0                  85.0   \n",
       "4      5             Neymar      90.0                  73.0   \n",
       "..   ...                ...       ...                   ...   \n",
       "95    95      Robinson Cano      23.1                  22.1   \n",
       "96    95        Brook Lopez      23.1                  22.6   \n",
       "97    95    Masahiro Tanaka      23.1                  22.1   \n",
       "98    99      Melvin Ingram      23.0                  22.8   \n",
       "99   100      Nicolas Batum      22.9                  22.4   \n",
       "\n",
       "    Endorsements ($M)               Sport  Rank.1  \n",
       "0               10.00              Boxing       1  \n",
       "1               27.00              Soccer       2  \n",
       "2               47.00              Soccer       3  \n",
       "3               14.00  Mixed Martial Arts       4  \n",
       "4               17.00              Soccer       5  \n",
       "..                ...                 ...     ...  \n",
       "95               1.00            Baseball      95  \n",
       "96               0.50          Basketball      95  \n",
       "97               1.00            Baseball      95  \n",
       "98               0.15            Football      99  \n",
       "99               0.50          Basketball     100  \n",
       "\n",
       "[100 rows x 7 columns]"
      ]
     },
     "execution_count": 19,
     "metadata": {},
     "output_type": "execute_result"
    }
   ],
   "source": [
    "df_excel"
   ]
  },
  {
   "cell_type": "code",
   "execution_count": 20,
   "metadata": {},
   "outputs": [
    {
     "name": "stdout",
     "output_type": "stream",
     "text": [
      "Data Analysis course content\n",
      "- Big and open data\n",
      "- Statistical data analysis\n",
      "- Tools of data analysis\n",
      "- Data visualization\n"
     ]
    }
   ],
   "source": [
    "#reading text file using Python in-built functions\n",
    "my_file = open(r\"C:\\Users\\villemaj\\OneDrive - Oulun ammattikorkeakoulu\\Data Analysis\\Test data\\data_hello.txt\")\n",
    "content = my_file.read()\n",
    "print(content)\n",
    "my_file.close()"
   ]
  },
  {
   "cell_type": "code",
   "execution_count": 28,
   "metadata": {},
   "outputs": [
    {
     "name": "stdout",
     "output_type": "stream",
     "text": [
      "['Survived', 'Pclass', 'Name', 'Sex', 'Age', 'Siblings/Spouses Aboard', 'Parents/Children Aboard', 'Fare']\n",
      "['0', '3', 'Mr. Patrick Dooley', 'male', '32', '0', '0', '7.75']\n",
      "['0', '3', 'Mr. Johann Markun', 'male', '33', '0', '0', '7.8958']\n"
     ]
    }
   ],
   "source": [
    "#reading csv file using Python in-built functions\n",
    "\n",
    "import csv\n",
    "\n",
    "#open csv file\n",
    "file = open(r\"C:\\Users\\villemaj\\OneDrive - Oulun ammattikorkeakoulu\\Data Analysis\\Test data\\titanic_for_exercise.csv\")\n",
    "\n",
    "#read csv file\n",
    "reader = csv.reader(file)\n",
    "\n",
    "data = []\n",
    "#print reader lines or content\n",
    "#i = 0\n",
    "for lines in reader:\n",
    "    data.append(lines)\n",
    "    \n",
    "    #i = i + 1\n",
    "    #if i == 10:\n",
    "     #   break\n",
    "\n",
    "print(data[0])#last item in list\n",
    "print(data[-1])#last item in list\n",
    "print(data[-10])#9th last item in list\n",
    "#close csv file\n",
    "file.close()"
   ]
  }
 ],
 "metadata": {
  "kernelspec": {
   "display_name": "Python 3",
   "language": "python",
   "name": "python3"
  },
  "language_info": {
   "codemirror_mode": {
    "name": "ipython",
    "version": 3
   },
   "file_extension": ".py",
   "mimetype": "text/x-python",
   "name": "python",
   "nbconvert_exporter": "python",
   "pygments_lexer": "ipython3",
   "version": "3.11.0"
  },
  "orig_nbformat": 4
 },
 "nbformat": 4,
 "nbformat_minor": 2
}
