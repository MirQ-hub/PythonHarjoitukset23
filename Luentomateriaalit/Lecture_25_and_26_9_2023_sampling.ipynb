{
 "cells": [
  {
   "cell_type": "code",
   "execution_count": 2,
   "metadata": {},
   "outputs": [],
   "source": [
    "import pandas as pd\n",
    "import numpy as np\n",
    "import matplotlib.pyplot as plt\n",
    "import seaborn as sns"
   ]
  },
  {
   "cell_type": "code",
   "execution_count": 3,
   "metadata": {},
   "outputs": [
    {
     "data": {
      "text/plain": [
       "<AxesSubplot: ylabel='Count'>"
      ]
     },
     "execution_count": 3,
     "metadata": {},
     "output_type": "execute_result"
    }
   ],
   "source": [
    "#create ideal normally distributed data\n",
    "center_value = 100\n",
    "r_factor = 0.8\n",
    "n_measurements = 10000\n",
    "ideal = center_value + r_factor*np.random.standard_normal(n_measurements)\n",
    "sns.histplot(ideal)"
   ]
  },
  {
   "cell_type": "code",
   "execution_count": 4,
   "metadata": {},
   "outputs": [
    {
     "data": {
      "text/plain": [
       "<AxesSubplot: ylabel='Count'>"
      ]
     },
     "execution_count": 4,
     "metadata": {},
     "output_type": "execute_result"
    }
   ],
   "source": [
    "#let's downsample the data, systematic sampling\n",
    "down_sampled = ideal[::100]#select every 100th element from the array\n",
    "sns.histplot(down_sampled)"
   ]
  },
  {
   "cell_type": "code",
   "execution_count": 6,
   "metadata": {},
   "outputs": [],
   "source": [
    "#systematic sampling is not a good idea, because it can introduce bias\n",
    "%matplotlib qt\n",
    "for i in range(1, len(ideal)):\n",
    "    down_sampled = ideal[0::i]\n",
    "    sns.histplot(down_sampled, bins=int(len(down_sampled)/10))\n",
    "    if i==100:\n",
    "        break"
   ]
  },
  {
   "cell_type": "code",
   "execution_count": 7,
   "metadata": {},
   "outputs": [],
   "source": [
    "#let's calculate the mean values of the downsampled data and append those to a list\n",
    "mean_values = []\n",
    "indices = []\n",
    "for i in range(len(ideal), 1, -1):\n",
    "    down_sampled = ideal[0::i]\n",
    "    mean_values.append(np.mean(down_sampled))\n",
    "    indices.append(i)\n",
    "  "
   ]
  },
  {
   "cell_type": "code",
   "execution_count": 9,
   "metadata": {},
   "outputs": [
    {
     "name": "stdout",
     "output_type": "stream",
     "text": [
      "[10000, 9999, 9998, 9997, 9996, 9995, 9994, 9993, 9992, 9991, 9990, 9989, 9988, 9987, 9986, 9985, 9984, 9983, 9982, 9981, 9980, 9979, 9978, 9977, 9976, 9975, 9974, 9973, 9972, 9971, 9970, 9969, 9968, 9967, 9966, 9965, 9964, 9963, 9962, 9961, 9960, 9959, 9958, 9957, 9956, 9955, 9954, 9953, 9952, 9951, 9950, 9949, 9948, 9947, 9946, 9945, 9944, 9943, 9942, 9941, 9940, 9939, 9938, 9937, 9936, 9935, 9934, 9933, 9932, 9931, 9930, 9929, 9928, 9927, 9926, 9925, 9924, 9923, 9922, 9921, 9920, 9919, 9918, 9917, 9916, 9915, 9914, 9913, 9912, 9911, 9910, 9909, 9908, 9907, 9906, 9905, 9904, 9903, 9902, 9901]\n"
     ]
    }
   ],
   "source": [
    "print(indices[0:100])"
   ]
  },
  {
   "cell_type": "code",
   "execution_count": 8,
   "metadata": {},
   "outputs": [
    {
     "data": {
      "text/plain": [
       "<AxesSubplot: >"
      ]
     },
     "execution_count": 8,
     "metadata": {},
     "output_type": "execute_result"
    }
   ],
   "source": [
    "sns.lineplot(x=indices, y=mean_values)"
   ]
  },
  {
   "cell_type": "code",
   "execution_count": 10,
   "metadata": {},
   "outputs": [
    {
     "data": {
      "text/html": [
       "<div>\n",
       "<style scoped>\n",
       "    .dataframe tbody tr th:only-of-type {\n",
       "        vertical-align: middle;\n",
       "    }\n",
       "\n",
       "    .dataframe tbody tr th {\n",
       "        vertical-align: top;\n",
       "    }\n",
       "\n",
       "    .dataframe thead th {\n",
       "        text-align: right;\n",
       "    }\n",
       "</style>\n",
       "<table border=\"1\" class=\"dataframe\">\n",
       "  <thead>\n",
       "    <tr style=\"text-align: right;\">\n",
       "      <th></th>\n",
       "      <th>Time</th>\n",
       "      <th>Wind</th>\n",
       "      <th>Temp</th>\n",
       "      <th>Price</th>\n",
       "    </tr>\n",
       "  </thead>\n",
       "  <tbody>\n",
       "    <tr>\n",
       "      <th>0</th>\n",
       "      <td>2020-03-06 00:00:00</td>\n",
       "      <td>4.219394</td>\n",
       "      <td>-1.439604</td>\n",
       "      <td>1.70624</td>\n",
       "    </tr>\n",
       "    <tr>\n",
       "      <th>1</th>\n",
       "      <td>2020-03-06 01:00:00</td>\n",
       "      <td>4.273333</td>\n",
       "      <td>-1.583168</td>\n",
       "      <td>1.91456</td>\n",
       "    </tr>\n",
       "    <tr>\n",
       "      <th>2</th>\n",
       "      <td>2020-03-06 02:00:00</td>\n",
       "      <td>4.338182</td>\n",
       "      <td>-1.746535</td>\n",
       "      <td>1.85504</td>\n",
       "    </tr>\n",
       "    <tr>\n",
       "      <th>3</th>\n",
       "      <td>2020-03-06 03:00:00</td>\n",
       "      <td>4.289091</td>\n",
       "      <td>-1.900990</td>\n",
       "      <td>1.85876</td>\n",
       "    </tr>\n",
       "    <tr>\n",
       "      <th>4</th>\n",
       "      <td>2020-03-06 04:00:00</td>\n",
       "      <td>4.296341</td>\n",
       "      <td>-2.050249</td>\n",
       "      <td>1.89472</td>\n",
       "    </tr>\n",
       "    <tr>\n",
       "      <th>...</th>\n",
       "      <td>...</td>\n",
       "      <td>...</td>\n",
       "      <td>...</td>\n",
       "      <td>...</td>\n",
       "    </tr>\n",
       "    <tr>\n",
       "      <th>23034</th>\n",
       "      <td>2022-11-01 18:00:00</td>\n",
       "      <td>2.617365</td>\n",
       "      <td>3.098522</td>\n",
       "      <td>37.20496</td>\n",
       "    </tr>\n",
       "    <tr>\n",
       "      <th>23035</th>\n",
       "      <td>2022-11-01 19:00:00</td>\n",
       "      <td>2.754217</td>\n",
       "      <td>3.090099</td>\n",
       "      <td>37.95392</td>\n",
       "    </tr>\n",
       "    <tr>\n",
       "      <th>23036</th>\n",
       "      <td>2022-11-01 20:00:00</td>\n",
       "      <td>2.830539</td>\n",
       "      <td>3.141379</td>\n",
       "      <td>41.59580</td>\n",
       "    </tr>\n",
       "    <tr>\n",
       "      <th>23037</th>\n",
       "      <td>2022-11-01 21:00:00</td>\n",
       "      <td>2.849398</td>\n",
       "      <td>3.148276</td>\n",
       "      <td>27.15848</td>\n",
       "    </tr>\n",
       "    <tr>\n",
       "      <th>23038</th>\n",
       "      <td>2022-11-01 22:00:00</td>\n",
       "      <td>2.968675</td>\n",
       "      <td>3.156436</td>\n",
       "      <td>23.00572</td>\n",
       "    </tr>\n",
       "  </tbody>\n",
       "</table>\n",
       "<p>23039 rows × 4 columns</p>\n",
       "</div>"
      ],
      "text/plain": [
       "                     Time      Wind      Temp     Price\n",
       "0     2020-03-06 00:00:00  4.219394 -1.439604   1.70624\n",
       "1     2020-03-06 01:00:00  4.273333 -1.583168   1.91456\n",
       "2     2020-03-06 02:00:00  4.338182 -1.746535   1.85504\n",
       "3     2020-03-06 03:00:00  4.289091 -1.900990   1.85876\n",
       "4     2020-03-06 04:00:00  4.296341 -2.050249   1.89472\n",
       "...                   ...       ...       ...       ...\n",
       "23034 2022-11-01 18:00:00  2.617365  3.098522  37.20496\n",
       "23035 2022-11-01 19:00:00  2.754217  3.090099  37.95392\n",
       "23036 2022-11-01 20:00:00  2.830539  3.141379  41.59580\n",
       "23037 2022-11-01 21:00:00  2.849398  3.148276  27.15848\n",
       "23038 2022-11-01 22:00:00  2.968675  3.156436  23.00572\n",
       "\n",
       "[23039 rows x 4 columns]"
      ]
     },
     "execution_count": 10,
     "metadata": {},
     "output_type": "execute_result"
    }
   ],
   "source": [
    "df = pd.read_csv(r\"C:\\Users\\villemaj\\OneDrive - Oulun ammattikorkeakoulu\\Data Analysis\\Test data\\fmi_weather_and_price.csv\", parse_dates=[\"Time\"])\n",
    "df"
   ]
  },
  {
   "cell_type": "code",
   "execution_count": 12,
   "metadata": {},
   "outputs": [
    {
     "data": {
      "text/plain": [
       "<matplotlib.lines.Line2D at 0x1e942294290>"
      ]
     },
     "execution_count": 12,
     "metadata": {},
     "output_type": "execute_result"
    }
   ],
   "source": [
    "#EDA of the data\n",
    "temp = df[\"Temp\"]\n",
    "g = sns.histplot(temp)\n",
    "g.axvline(temp.mean(), color=\"red\", linestyle=\"dashed\", linewidth=2)"
   ]
  },
  {
   "cell_type": "code",
   "execution_count": 13,
   "metadata": {},
   "outputs": [],
   "source": [
    "#downsample temperature data\n",
    "#let's calculate the mean values of the downsampled data and append those to a list\n",
    "mean_values_temp = []\n",
    "indices_temp = []\n",
    "for i in range(len(temp), 1, -1):\n",
    "    down_sampled = temp[0::i]\n",
    "    mean_values_temp.append(np.mean(down_sampled))\n",
    "    indices_temp.append(i)\n",
    "  "
   ]
  },
  {
   "cell_type": "code",
   "execution_count": 14,
   "metadata": {},
   "outputs": [
    {
     "data": {
      "text/plain": [
       "<AxesSubplot: >"
      ]
     },
     "execution_count": 14,
     "metadata": {},
     "output_type": "execute_result"
    }
   ],
   "source": [
    "sns.lineplot(x=indices_temp, y=mean_values_temp)"
   ]
  },
  {
   "cell_type": "markdown",
   "metadata": {},
   "source": [
    "Seasonality is causing large bias in mean value calculation (not always but with some sampling factors) when using systematic sampling --> randomsize sampling"
   ]
  },
  {
   "cell_type": "code",
   "execution_count": 15,
   "metadata": {},
   "outputs": [
    {
     "name": "stderr",
     "output_type": "stream",
     "text": [
      "c:\\Python311\\Lib\\random.py:380: SettingWithCopyWarning: \n",
      "A value is trying to be set on a copy of a slice from a DataFrame\n",
      "\n",
      "See the caveats in the documentation: https://pandas.pydata.org/pandas-docs/stable/user_guide/indexing.html#returning-a-view-versus-a-copy\n",
      "  x[i], x[j] = x[j], x[i]\n"
     ]
    }
   ],
   "source": [
    "from random import shuffle\n",
    "#shuffle the data\n",
    "rnd_mean_values_temp = []\n",
    "\n",
    "#downsample temperature data\n",
    "#let's calculate the mean values of the downsampled data and append those to a list\n",
    "\n",
    "shuffle(temp) #shuffle the data\n",
    "indices_temp = []\n",
    "for i in range(len(temp), 1, -1):\n",
    "    down_sampled = temp[0::i]\n",
    "    rnd_mean_values_temp.append(np.mean(down_sampled))\n",
    "    indices_temp.append(i)\n",
    "  "
   ]
  },
  {
   "cell_type": "code",
   "execution_count": 16,
   "metadata": {},
   "outputs": [
    {
     "data": {
      "text/plain": [
       "<AxesSubplot: >"
      ]
     },
     "execution_count": 16,
     "metadata": {},
     "output_type": "execute_result"
    }
   ],
   "source": [
    "sns.lineplot(x=indices_temp, y=rnd_mean_values_temp, color=\"red\")\n",
    "sns.lineplot(x=indices_temp, y=mean_values_temp, color=\"blue\")"
   ]
  }
 ],
 "metadata": {
  "kernelspec": {
   "display_name": "Python 3",
   "language": "python",
   "name": "python3"
  },
  "language_info": {
   "codemirror_mode": {
    "name": "ipython",
    "version": 3
   },
   "file_extension": ".py",
   "mimetype": "text/x-python",
   "name": "python",
   "nbconvert_exporter": "python",
   "pygments_lexer": "ipython3",
   "version": "3.11.0"
  },
  "orig_nbformat": 4
 },
 "nbformat": 4,
 "nbformat_minor": 2
}
